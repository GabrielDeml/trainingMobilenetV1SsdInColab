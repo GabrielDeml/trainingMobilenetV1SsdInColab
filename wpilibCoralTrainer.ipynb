{
  "nbformat": 4,
  "nbformat_minor": 0,
  "metadata": {
    "colab": {
      "name": "wpilibCoralTrainer.ipynb",
      "provenance": [],
      "private_outputs": true,
      "collapsed_sections": [],
      "authorship_tag": "ABX9TyN81Bd73QTXaUUbKDb8EceX",
      "include_colab_link": true
    },
    "kernelspec": {
      "name": "python3",
      "display_name": "Python 3"
    },
    "accelerator": "GPU"
  },
  "cells": [
    {
      "cell_type": "markdown",
      "metadata": {
        "id": "view-in-github",
        "colab_type": "text"
      },
      "source": [
        "<a href=\"https://colab.research.google.com/github/GabrielDeml/trainingMobilenetV1SsdInColab/blob/master/wpilibCoralTrainer.ipynb\" target=\"_parent\"><img src=\"https://colab.research.google.com/assets/colab-badge.svg\" alt=\"Open In Colab\"/></a>"
      ]
    },
    {
      "cell_type": "markdown",
      "metadata": {
        "id": "QPOBJkkW09Yq",
        "colab_type": "text"
      },
      "source": [
        "Prams"
      ]
    },
    {
      "cell_type": "code",
      "metadata": {
        "id": "bri0Wtq_Az2j",
        "colab_type": "code",
        "colab": {}
      },
      "source": [
        "%tensorflow_version 1.x"
      ],
      "execution_count": 0,
      "outputs": []
    },
    {
      "cell_type": "markdown",
      "metadata": {
        "id": "3hH-7T9zzYRF",
        "colab_type": "text"
      },
      "source": [
        "Get classification transfer learning scripts.\n"
      ]
    },
    {
      "cell_type": "code",
      "metadata": {
        "id": "OH9lFb4Jz4wz",
        "colab_type": "code",
        "colab": {}
      },
      "source": [
        "%load_ext tensorboard"
      ],
      "execution_count": 0,
      "outputs": []
    },
    {
      "cell_type": "markdown",
      "metadata": {
        "id": "cBGnnd-5zoo4",
        "colab_type": "text"
      },
      "source": [
        "Go grab the models for the network and switch to the right version"
      ]
    },
    {
      "cell_type": "code",
      "metadata": {
        "id": "NnitrLJ3zWIP",
        "colab_type": "code",
        "colab": {}
      },
      "source": [
        "!git clone https://github.com/tensorflow/models\n",
        "%cd models/research/object_detection\n",
        "!git checkout f788046ca876a8820e05b0b48c1fc2e16b0955bc"
      ],
      "execution_count": 0,
      "outputs": []
    },
    {
      "cell_type": "markdown",
      "metadata": {
        "id": "YMdsDCghzxUr",
        "colab_type": "text"
      },
      "source": [
        "Set the paths"
      ]
    },
    {
      "cell_type": "code",
      "metadata": {
        "id": "JqTvkL6KV7Rt",
        "colab_type": "code",
        "colab": {}
      },
      "source": [
        "import os\n",
        "os.environ['PYTHONPATH'] += ':/content/models/research/:/content/models/research/slim/'\n",
        "!CLASSIFY_DIR=/content/models/research/object_detection/"
      ],
      "execution_count": 0,
      "outputs": []
    },
    {
      "cell_type": "markdown",
      "metadata": {
        "id": "tbRIj6ARz4oi",
        "colab_type": "text"
      },
      "source": [
        "Grab the training scripts"
      ]
    },
    {
      "cell_type": "code",
      "metadata": {
        "id": "M93li8JnzLKx",
        "colab_type": "code",
        "colab": {}
      },
      "source": [
        "!wget -O classify_scripts.tgz http://storage.googleapis.com/cloud-iot-edge-pretrained-models/docker/obj_det_scripts.tgz\n",
        "!tar zxvf classify_scripts.tgz"
      ],
      "execution_count": 0,
      "outputs": []
    },
    {
      "cell_type": "markdown",
      "metadata": {
        "id": "f0SVxB200Hg6",
        "colab_type": "text"
      },
      "source": [
        "Fix the scripts to get the training data"
      ]
    },
    {
      "cell_type": "code",
      "metadata": {
        "id": "9cMUYKWPCKvy",
        "colab_type": "code",
        "colab": {}
      },
      "source": [
        "!sed -i '83s/object_detection\\///' /content/models/research/object_detection/prepare_checkpoint_and_dataset.sh\n",
        "!sed -i '86s/object_detection\\///' /content/models/research/object_detection/prepare_checkpoint_and_dataset.sh\n",
        "!cp /content/models/research/cognitive_planning/string_int_label_map_pb2.py /content/models/research/object_detection/protos"
      ],
      "execution_count": 0,
      "outputs": []
    },
    {
      "cell_type": "code",
      "metadata": {
        "id": "Ft7MaRxVRBrt",
        "colab_type": "code",
        "colab": {}
      },
      "source": [
        "# mv /content/*.tar .\n",
        "# tar -xf *.tar -C ./out/"
      ],
      "execution_count": 0,
      "outputs": []
    },
    {
      "cell_type": "markdown",
      "metadata": {
        "id": "5K4qR2XC0PNj",
        "colab_type": "text"
      },
      "source": [
        "Go get the training data"
      ]
    },
    {
      "cell_type": "code",
      "metadata": {
        "id": "Gmjkau130XjM",
        "colab_type": "code",
        "colab": {}
      },
      "source": [
        "! ./prepare_checkpoint_and_dataset.sh --network_type mobilenet_v1_ssd"
      ],
      "execution_count": 0,
      "outputs": []
    },
    {
      "cell_type": "code",
      "metadata": {
        "id": "LB7RYaBVo4Cq",
        "colab_type": "code",
        "colab": {}
      },
      "source": [
        "!rm learn_pet/pet/pet_faces*\n",
        "!rm learn_pet/pet/pet_label*\n",
        "!cp /content/map.pbtxt /content/models/research/object_detection/learn_pet/pet/\n",
        "!cp /content/train.record /content/models/research/object_detection/learn_pet/pet"
      ],
      "execution_count": 0,
      "outputs": []
    },
    {
      "cell_type": "code",
      "metadata": {
        "id": "do_crgcT2iPz",
        "colab_type": "code",
        "colab": {}
      },
      "source": [
        "!sed -i '41s/object_detection\\///' /content/models/research/object_detection/retrain_detection_model.sh"
      ],
      "execution_count": 0,
      "outputs": []
    },
    {
      "cell_type": "code",
      "metadata": {
        "id": "5pz4Wqyk9rXH",
        "colab_type": "code",
        "colab": {}
      },
      "source": [
        "%cd /content/models/research/\n",
        "!protoc --python_out=./ object_detection/protos/*.proto\n",
        "%cd /content/models/research/object_detection/"
      ],
      "execution_count": 0,
      "outputs": []
    },
    {
      "cell_type": "code",
      "metadata": {
        "id": "JNXqMRJA-hn3",
        "colab_type": "code",
        "colab": {}
      },
      "source": [
        "%tensorboard --logdir=./learn_pet/train/"
      ],
      "execution_count": 0,
      "outputs": []
    },
    {
      "cell_type": "code",
      "metadata": {
        "id": "itSdKtbz88zr",
        "colab_type": "code",
        "colab": {}
      },
      "source": [
        "!./retrain_detection_model.sh"
      ],
      "execution_count": 0,
      "outputs": []
    },
    {
      "cell_type": "code",
      "metadata": {
        "id": "tx9WeSB2Evc_",
        "colab_type": "code",
        "colab": {}
      },
      "source": [
        "!sed -i '42s/object_detection\\///' /content/models/research/object_detection/convert_checkpoint_to_edgetpu_tflite.sh"
      ],
      "execution_count": 0,
      "outputs": []
    },
    {
      "cell_type": "code",
      "metadata": {
        "id": "kyM0mY5BROEZ",
        "colab_type": "code",
        "colab": {}
      },
      "source": [
        "!./convert_checkpoint_to_edgetpu_tflite.sh --checkpoint_num 500"
      ],
      "execution_count": 0,
      "outputs": []
    },
    {
      "cell_type": "code",
      "metadata": {
        "id": "kXeYT3hUR_At",
        "colab_type": "code",
        "colab": {}
      },
      "source": [
        "!curl https://packages.cloud.google.com/apt/doc/apt-key.gpg | sudo apt-key add -\n",
        "!echo \"deb https://packages.cloud.google.com/apt coral-edgetpu-stable main\" | sudo tee /etc/apt/sources.list.d/coral-edgetpu.list\n",
        "!apt update\n",
        "!apt install edgetpu"
      ],
      "execution_count": 0,
      "outputs": []
    },
    {
      "cell_type": "code",
      "metadata": {
        "id": "wTfz7OW_SlZE",
        "colab_type": "code",
        "colab": {}
      },
      "source": [
        "%cd /content/models/research/object_detection/learn_pet/models/\n",
        "!edgetpu_compiler output_tflite_graph.tflite\n",
        "%cd /content/models/research/object_detection/\n",
        "!cp -r /content/models/research/object_detection/learn_pet/models/ /content/trained"
      ],
      "execution_count": 0,
      "outputs": []
    }
  ]
}
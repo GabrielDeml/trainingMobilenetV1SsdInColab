{
  "nbformat": 4,
  "nbformat_minor": 0,
  "metadata": {
    "colab": {
      "name": "wpilibCoralTrainer.ipynb",
      "provenance": [],
      "collapsed_sections": [],
      "authorship_tag": "ABX9TyM96NZjduQDv4IaPZbt/MJR",
      "include_colab_link": true
    },
    "kernelspec": {
      "name": "python3",
      "display_name": "Python 3"
    },
    "accelerator": "GPU"
  },
  "cells": [
    {
      "cell_type": "markdown",
      "metadata": {
        "id": "view-in-github",
        "colab_type": "text"
      },
      "source": [
        "<a href=\"https://colab.research.google.com/github/GabrielDeml/trainingMobilenetV1SsdInColab/blob/master/wpilibCoralTrainer.ipynb\" target=\"_parent\"><img src=\"https://colab.research.google.com/assets/colab-badge.svg\" alt=\"Open In Colab\"/></a>"
      ]
    },
    {
      "cell_type": "markdown",
      "metadata": {
        "id": "3hH-7T9zzYRF",
        "colab_type": "text"
      },
      "source": [
        "# Get classification transfer learning scripts.\n"
      ]
    },
    {
      "cell_type": "code",
      "metadata": {
        "id": "OH9lFb4Jz4wz",
        "colab_type": "code",
        "colab": {
          "base_uri": "https://localhost:8080/",
          "height": 51
        },
        "outputId": "5f13a7ba-0f6d-40eb-a954-61a9e52d225a"
      },
      "source": [
        "%load_ext tensorboard"
      ],
      "execution_count": 14,
      "outputs": [
        {
          "output_type": "stream",
          "text": [
            "The tensorboard extension is already loaded. To reload it, use:\n",
            "  %reload_ext tensorboard\n"
          ],
          "name": "stdout"
        }
      ]
    },
    {
      "cell_type": "code",
      "metadata": {
        "id": "NnitrLJ3zWIP",
        "colab_type": "code",
        "outputId": "c7346790-de5f-4164-f0fd-de04a678a4a5",
        "colab": {
          "base_uri": "https://localhost:8080/",
          "height": 391
        }
      },
      "source": [
        "!git clone https://github.com/tensorflow/models\n",
        "%cd models/research/object_detection\n",
        "!git checkout f788046ca876a8820e05b0b48c1fc2e16b0955bc"
      ],
      "execution_count": 15,
      "outputs": [
        {
          "output_type": "stream",
          "text": [
            "Cloning into 'models'...\n",
            "remote: Enumerating objects: 60, done.\u001b[K\n",
            "remote: Counting objects: 100% (60/60), done.\u001b[K\n",
            "remote: Compressing objects: 100% (48/48), done.\u001b[K\n",
            "remote: Total 32607 (delta 25), reused 36 (delta 12), pack-reused 32547\u001b[K\n",
            "Receiving objects: 100% (32607/32607), 511.87 MiB | 33.28 MiB/s, done.\n",
            "Resolving deltas: 100% (20875/20875), done.\n",
            "Checking out files: 100% (2486/2486), done.\n",
            "/content/models/research/models/research/object_detection\n",
            "Checking out files: 100% (1934/1934), done.\n",
            "Note: checking out 'f788046ca876a8820e05b0b48c1fc2e16b0955bc'.\n",
            "\n",
            "You are in 'detached HEAD' state. You can look around, make experimental\n",
            "changes and commit them, and you can discard any commits you make in this\n",
            "state without impacting any branches by performing another checkout.\n",
            "\n",
            "If you want to create a new branch to retain commits you create, you may\n",
            "do so (now or later) by using -b with the checkout command again. Example:\n",
            "\n",
            "  git checkout -b <new-branch-name>\n",
            "\n",
            "HEAD is now at f788046c Add model_dir to all tests to avoid \"resource not found error\". (#6143)\n"
          ],
          "name": "stdout"
        }
      ]
    },
    {
      "cell_type": "code",
      "metadata": {
        "id": "JqTvkL6KV7Rt",
        "colab_type": "code",
        "colab": {}
      },
      "source": [
        "import os\n",
        "os.environ['PYTHONPATH'] += ':/content/models/research/:/content/models/research/slim/'"
      ],
      "execution_count": 0,
      "outputs": []
    },
    {
      "cell_type": "code",
      "metadata": {
        "id": "hu4v2KF82mh7",
        "colab_type": "code",
        "outputId": "57245278-0de8-4769-9d81-3daedf640ddc",
        "colab": {
          "base_uri": "https://localhost:8080/",
          "height": 34
        }
      },
      "source": [
        "!CLASSIFY_DIR=/content/models/research/object_detection/\n",
        "%pwd"
      ],
      "execution_count": 17,
      "outputs": [
        {
          "output_type": "execute_result",
          "data": {
            "text/plain": [
              "'/content/models/research/models/research/object_detection'"
            ]
          },
          "metadata": {
            "tags": []
          },
          "execution_count": 17
        }
      ]
    },
    {
      "cell_type": "code",
      "metadata": {
        "id": "M93li8JnzLKx",
        "colab_type": "code",
        "outputId": "9f29fe81-36ab-4088-ccf1-f7210fe9b491",
        "colab": {
          "base_uri": "https://localhost:8080/",
          "height": 374
        }
      },
      "source": [
        "!wget -O classify_scripts.tgz http://storage.googleapis.com/cloud-iot-edge-pretrained-models/docker/obj_det_scripts.tgz\n",
        "!tar zxvf classify_scripts.tgz"
      ],
      "execution_count": 18,
      "outputs": [
        {
          "output_type": "stream",
          "text": [
            "--2020-03-09 17:29:32--  http://storage.googleapis.com/cloud-iot-edge-pretrained-models/docker/obj_det_scripts.tgz\n",
            "Resolving storage.googleapis.com (storage.googleapis.com)... 172.217.212.128, 2607:f8b0:4001:c05::80\n",
            "Connecting to storage.googleapis.com (storage.googleapis.com)|172.217.212.128|:80... connected.\n",
            "HTTP request sent, awaiting response... 200 OK\n",
            "Length: 4622 (4.5K) [application/x-tar]\n",
            "Saving to: ‘classify_scripts.tgz’\n",
            "\n",
            "\rclassify_scripts.tg   0%[                    ]       0  --.-KB/s               \rclassify_scripts.tg 100%[===================>]   4.51K  --.-KB/s    in 0s      \n",
            "\n",
            "2020-03-09 17:29:32 (457 MB/s) - ‘classify_scripts.tgz’ saved [4622/4622]\n",
            "\n",
            "constants.sh\n",
            "convert_checkpoint_to_edgetpu_tflite.sh\n",
            "prepare_checkpoint_and_dataset.sh\n",
            "retrain_detection_model.sh\n",
            "workflow_test.sh\n",
            "configs/\n",
            "configs/pipeline_mobilenet_v2_ssd_retrain_whole_model.config\n",
            "configs/pipeline_mobilenet_v1_ssd_retrain_last_few_layers.config\n",
            "configs/pipeline_mobilenet_v2_ssd_retrain_last_few_layers.config\n",
            "configs/pipeline_mobilenet_v1_ssd_retrain_whole_model.config\n"
          ],
          "name": "stdout"
        }
      ]
    },
    {
      "cell_type": "code",
      "metadata": {
        "id": "9cMUYKWPCKvy",
        "colab_type": "code",
        "colab": {
          "base_uri": "https://localhost:8080/",
          "height": 51
        },
        "outputId": "280a4018-0e37-490b-b697-c7221279200e"
      },
      "source": [
        "!sed -i '83s/object_detection\\///' /content/models/research/object_detection/prepare_checkpoint_and_dataset.sh\n",
        "!sed -i '86s/object_detection\\///' /content/models/research/object_detection/prepare_checkpoint_and_dataset.sh"
      ],
      "execution_count": 19,
      "outputs": [
        {
          "output_type": "stream",
          "text": [
            "sed: can't read /content/models/research/object_detection/prepare_checkpoint_and_dataset.sh: No such file or directory\n",
            "sed: can't read /content/models/research/object_detection/prepare_checkpoint_and_dataset.sh: No such file or directory\n"
          ],
          "name": "stdout"
        }
      ]
    },
    {
      "cell_type": "code",
      "metadata": {
        "id": "Gmjkau130XjM",
        "colab_type": "code",
        "outputId": "16bb9c87-724d-4475-e05b-3ed7f4c4daba",
        "colab": {
          "base_uri": "https://localhost:8080/",
          "height": 1000
        }
      },
      "source": [
        "! ./prepare_checkpoint_and_dataset.sh --network_type mobilenet_v1_ssd"
      ],
      "execution_count": 20,
      "outputs": [
        {
          "output_type": "stream",
          "text": [
            "+ network_type=mobilenet_v1_ssd\n",
            "+ train_whole_model=false\n",
            "+ [[ 2 -gt 0 ]]\n",
            "+ case \"$1\" in\n",
            "+ network_type=mobilenet_v1_ssd\n",
            "+ shift 2\n",
            "+ [[ 0 -gt 0 ]]\n",
            "+ source /content/models/research/models/research/object_detection/constants.sh\n",
            "++ declare -A ckpt_link_map\n",
            "++ declare -A ckpt_name_map\n",
            "++ declare -A config_filename_map\n",
            "++ ckpt_link_map[\"mobilenet_v1_ssd\"]=http://download.tensorflow.org/models/object_detection/ssd_mobilenet_v1_quantized_300x300_coco14_sync_2018_07_18.tar.gz\n",
            "++ ckpt_link_map[\"mobilenet_v2_ssd\"]=http://download.tensorflow.org/models/object_detection/ssd_mobilenet_v2_quantized_300x300_coco_2019_01_03.tar.gz\n",
            "++ ckpt_name_map[\"mobilenet_v1_ssd\"]=ssd_mobilenet_v1_quantized_300x300_coco14_sync_2018_07_18\n",
            "++ ckpt_name_map[\"mobilenet_v2_ssd\"]=ssd_mobilenet_v2_quantized_300x300_coco_2019_01_03\n",
            "++ config_filename_map[\"mobilenet_v1_ssd-true\"]=pipeline_mobilenet_v1_ssd_retrain_whole_model.config\n",
            "++ config_filename_map[\"mobilenet_v1_ssd-false\"]=pipeline_mobilenet_v1_ssd_retrain_last_few_layers.config\n",
            "++ config_filename_map[\"mobilenet_v2_ssd-true\"]=pipeline_mobilenet_v2_ssd_retrain_whole_model.config\n",
            "++ config_filename_map[\"mobilenet_v2_ssd-false\"]=pipeline_mobilenet_v2_ssd_retrain_last_few_layers.config\n",
            "++ INPUT_TENSORS=normalized_input_image_tensor\n",
            "++ OUTPUT_TENSORS=TFLite_Detection_PostProcess,TFLite_Detection_PostProcess:1,TFLite_Detection_PostProcess:2,TFLite_Detection_PostProcess:3\n",
            "++ OBJ_DET_DIR=/content/models/research/models/research/object_detection\n",
            "++ LEARN_DIR=/content/models/research/models/research/object_detection/learn_pet\n",
            "++ DATASET_DIR=/content/models/research/models/research/object_detection/learn_pet/pet\n",
            "++ CKPT_DIR=/content/models/research/models/research/object_detection/learn_pet/ckpt\n",
            "++ TRAIN_DIR=/content/models/research/models/research/object_detection/learn_pet/train\n",
            "++ OUTPUT_DIR=/content/models/research/models/research/object_detection/learn_pet/models\n",
            "+ echo 'PREPARING checkpoint...'\n",
            "PREPARING checkpoint...\n",
            "+ mkdir -p /content/models/research/models/research/object_detection/learn_pet\n",
            "+ ckpt_link=http://download.tensorflow.org/models/object_detection/ssd_mobilenet_v1_quantized_300x300_coco14_sync_2018_07_18.tar.gz\n",
            "+ ckpt_name=ssd_mobilenet_v1_quantized_300x300_coco14_sync_2018_07_18\n",
            "+ cd /content/models/research/models/research/object_detection/learn_pet\n",
            "+ wget -O ssd_mobilenet_v1_quantized_300x300_coco14_sync_2018_07_18.tar.gz http://download.tensorflow.org/models/object_detection/ssd_mobilenet_v1_quantized_300x300_coco14_sync_2018_07_18.tar.gz\n",
            "--2020-03-09 17:29:35--  http://download.tensorflow.org/models/object_detection/ssd_mobilenet_v1_quantized_300x300_coco14_sync_2018_07_18.tar.gz\n",
            "Resolving download.tensorflow.org (download.tensorflow.org)... 209.85.145.128, 2607:f8b0:4001:c1e::80\n",
            "Connecting to download.tensorflow.org (download.tensorflow.org)|209.85.145.128|:80... connected.\n",
            "HTTP request sent, awaiting response... 200 OK\n",
            "Length: 85682182 (82M) [application/x-tar]\n",
            "Saving to: ‘ssd_mobilenet_v1_quantized_300x300_coco14_sync_2018_07_18.tar.gz’\n",
            "\n",
            "\r          ssd_mobil   0%[                    ]       0  --.-KB/s               \r         ssd_mobile  58%[==========>         ]  48.01M   191MB/s               \rssd_mobilenet_v1_qu 100%[===================>]  81.71M   252MB/s    in 0.3s    \n",
            "\n",
            "2020-03-09 17:29:36 (252 MB/s) - ‘ssd_mobilenet_v1_quantized_300x300_coco14_sync_2018_07_18.tar.gz’ saved [85682182/85682182]\n",
            "\n",
            "+ tar zxvf ssd_mobilenet_v1_quantized_300x300_coco14_sync_2018_07_18.tar.gz\n",
            "ssd_mobilenet_v1_quantized_300x300_coco14_sync_2018_07_18/pipeline.config\n",
            "ssd_mobilenet_v1_quantized_300x300_coco14_sync_2018_07_18/tflite_graph.pb\n",
            "ssd_mobilenet_v1_quantized_300x300_coco14_sync_2018_07_18/model.ckpt.meta\n",
            "ssd_mobilenet_v1_quantized_300x300_coco14_sync_2018_07_18/\n",
            "ssd_mobilenet_v1_quantized_300x300_coco14_sync_2018_07_18/tflite_graph.pbtxt\n",
            "ssd_mobilenet_v1_quantized_300x300_coco14_sync_2018_07_18/model.ckpt.index\n",
            "ssd_mobilenet_v1_quantized_300x300_coco14_sync_2018_07_18/model.ckpt.data-00000-of-00001\n",
            "+ mv ssd_mobilenet_v1_quantized_300x300_coco14_sync_2018_07_18 /content/models/research/models/research/object_detection/learn_pet/ckpt\n",
            "+ echo 'CHOSING config file...'\n",
            "CHOSING config file...\n",
            "+ config_filename=pipeline_mobilenet_v1_ssd_retrain_last_few_layers.config\n",
            "+ cd /content/models/research/models/research/object_detection\n",
            "+ cp configs/pipeline_mobilenet_v1_ssd_retrain_last_few_layers.config /content/models/research/models/research/object_detection/learn_pet/ckpt/pipeline.config\n",
            "+ echo 'REPLACING variables in config file...'\n",
            "REPLACING variables in config file...\n",
            "+ sed -i s%CKPT_DIR_TO_CONFIGURE%/content/models/research/models/research/object_detection/learn_pet/ckpt%g /content/models/research/models/research/object_detection/learn_pet/ckpt/pipeline.config\n",
            "+ sed -i s%DATASET_DIR_TO_CONFIGURE%/content/models/research/models/research/object_detection/learn_pet/pet%g /content/models/research/models/research/object_detection/learn_pet/ckpt/pipeline.config\n",
            "+ echo 'PREPARING dataset'\n",
            "PREPARING dataset\n",
            "+ mkdir /content/models/research/models/research/object_detection/learn_pet/pet\n",
            "+ cd /content/models/research/models/research/object_detection/learn_pet/pet\n",
            "+ wget http://www.robots.ox.ac.uk/~vgg/data/pets/data/images.tar.gz\n",
            "--2020-03-09 17:29:37--  http://www.robots.ox.ac.uk/~vgg/data/pets/data/images.tar.gz\n",
            "Resolving www.robots.ox.ac.uk (www.robots.ox.ac.uk)... 129.67.94.2\n",
            "Connecting to www.robots.ox.ac.uk (www.robots.ox.ac.uk)|129.67.94.2|:80... connected.\n",
            "HTTP request sent, awaiting response... 200 OK\n",
            "Length: 791918971 (755M) [application/x-gzip]\n",
            "Saving to: ‘images.tar.gz’\n",
            "\n",
            "images.tar.gz       100%[===================>] 755.23M  28.0MB/s    in 28s     \n",
            "\n",
            "2020-03-09 17:30:05 (27.1 MB/s) - ‘images.tar.gz’ saved [791918971/791918971]\n",
            "\n",
            "+ wget http://www.robots.ox.ac.uk/~vgg/data/pets/data/annotations.tar.gz\n",
            "--2020-03-09 17:30:05--  http://www.robots.ox.ac.uk/~vgg/data/pets/data/annotations.tar.gz\n",
            "Resolving www.robots.ox.ac.uk (www.robots.ox.ac.uk)... 129.67.94.2\n",
            "Connecting to www.robots.ox.ac.uk (www.robots.ox.ac.uk)|129.67.94.2|:80... connected.\n",
            "HTTP request sent, awaiting response... 200 OK\n",
            "Length: 19173078 (18M) [application/x-gzip]\n",
            "Saving to: ‘annotations.tar.gz’\n",
            "\n",
            "annotations.tar.gz  100%[===================>]  18.28M  14.3MB/s    in 1.3s    \n",
            "\n",
            "2020-03-09 17:30:07 (14.3 MB/s) - ‘annotations.tar.gz’ saved [19173078/19173078]\n",
            "\n",
            "+ tar zxf images.tar.gz\n",
            "+ tar zxf annotations.tar.gz\n",
            "+ echo 'PREPARING dataset using first two classes of Oxford-IIIT Pet dataset...'\n",
            "PREPARING dataset using first two classes of Oxford-IIIT Pet dataset...\n",
            "+ cp /content/models/research/models/research/object_detection/learn_pet/pet/annotations/list.txt /content/models/research/models/research/object_detection/learn_pet/pet/annotations/list_petsdataset.txt\n",
            "+ cp /content/models/research/models/research/object_detection/learn_pet/pet/annotations/trainval.txt /content/models/research/models/research/object_detection/learn_pet/pet/annotations/trainval_petsdataset.txt\n",
            "+ cp /content/models/research/models/research/object_detection/learn_pet/pet/annotations/test.txt /content/models/research/models/research/object_detection/learn_pet/pet/annotations/test_petsdataset.txt\n",
            "+ grep Abyssinian /content/models/research/models/research/object_detection/learn_pet/pet/annotations/list_petsdataset.txt\n",
            "+ grep american_bulldog /content/models/research/models/research/object_detection/learn_pet/pet/annotations/list_petsdataset.txt\n",
            "+ grep Abyssinian /content/models/research/models/research/object_detection/learn_pet/pet/annotations/trainval_petsdataset.txt\n",
            "+ grep american_bulldog /content/models/research/models/research/object_detection/learn_pet/pet/annotations/trainval_petsdataset.txt\n",
            "+ grep Abyssinian /content/models/research/models/research/object_detection/learn_pet/pet/annotations/test_petsdataset.txt\n",
            "+ grep american_bulldog /content/models/research/models/research/object_detection/learn_pet/pet/annotations/test_petsdataset.txt\n",
            "+ echo 'PREPARING label map...'\n",
            "PREPARING label map...\n",
            "+ cd /content/models/research/models/research/object_detection\n",
            "+ cp object_detection/data/pet_label_map.pbtxt /content/models/research/models/research/object_detection/learn_pet/pet\n",
            "cp: cannot stat 'object_detection/data/pet_label_map.pbtxt': No such file or directory\n"
          ],
          "name": "stdout"
        }
      ]
    },
    {
      "cell_type": "code",
      "metadata": {
        "id": "JNXqMRJA-hn3",
        "colab_type": "code",
        "outputId": "6b797d8f-e7c5-427a-e046-fd04cb545dab",
        "colab": {
          "base_uri": "https://localhost:8080/",
          "height": 17
        }
      },
      "source": [
        "%tensorboard --logdir=./transfer_learn/train/"
      ],
      "execution_count": 21,
      "outputs": [
        {
          "output_type": "display_data",
          "data": {
            "text/html": [
              "\n",
              "    <div id=\"root\"></div>\n",
              "    <script>\n",
              "      (function() {\n",
              "        window.TENSORBOARD_ENV = window.TENSORBOARD_ENV || {};\n",
              "        window.TENSORBOARD_ENV[\"IN_COLAB\"] = true;\n",
              "        document.querySelector(\"base\").href = \"https://localhost:6007\";\n",
              "        function fixUpTensorboard(root) {\n",
              "          const tftb = root.querySelector(\"tf-tensorboard\");\n",
              "          // Disable the fragment manipulation behavior in Colab. Not\n",
              "          // only is the behavior not useful (as the iframe's location\n",
              "          // is not visible to the user), it causes TensorBoard's usage\n",
              "          // of `window.replace` to navigate away from the page and to\n",
              "          // the `localhost:<port>` URL specified by the base URI, which\n",
              "          // in turn causes the frame to (likely) crash.\n",
              "          tftb.removeAttribute(\"use-hash\");\n",
              "        }\n",
              "        function executeAllScripts(root) {\n",
              "          // When `script` elements are inserted into the DOM by\n",
              "          // assigning to an element's `innerHTML`, the scripts are not\n",
              "          // executed. Thus, we manually re-insert these scripts so that\n",
              "          // TensorBoard can initialize itself.\n",
              "          for (const script of root.querySelectorAll(\"script\")) {\n",
              "            const newScript = document.createElement(\"script\");\n",
              "            newScript.type = script.type;\n",
              "            newScript.textContent = script.textContent;\n",
              "            root.appendChild(newScript);\n",
              "            script.remove();\n",
              "          }\n",
              "        }\n",
              "        function setHeight(root, height) {\n",
              "          // We set the height dynamically after the TensorBoard UI has\n",
              "          // been initialized. This avoids an intermediate state in\n",
              "          // which the container plus the UI become taller than the\n",
              "          // final width and cause the Colab output frame to be\n",
              "          // permanently resized, eventually leading to an empty\n",
              "          // vertical gap below the TensorBoard UI. It's not clear\n",
              "          // exactly what causes this problematic intermediate state,\n",
              "          // but setting the height late seems to fix it.\n",
              "          root.style.height = `${height}px`;\n",
              "        }\n",
              "        const root = document.getElementById(\"root\");\n",
              "        fetch(\".\")\n",
              "          .then((x) => x.text())\n",
              "          .then((html) => void (root.innerHTML = html))\n",
              "          .then(() => fixUpTensorboard(root))\n",
              "          .then(() => executeAllScripts(root))\n",
              "          .then(() => setHeight(root, 800));\n",
              "      })();\n",
              "    </script>\n",
              "  "
            ],
            "text/plain": [
              "<IPython.core.display.HTML object>"
            ]
          },
          "metadata": {
            "tags": []
          }
        }
      ]
    },
    {
      "cell_type": "code",
      "metadata": {
        "id": "itSdKtbz88zr",
        "colab_type": "code",
        "outputId": "e9d7e692-ca5f-41d1-93db-ce9bb2b3290f",
        "colab": {
          "base_uri": "https://localhost:8080/",
          "height": 34
        }
      },
      "source": [
        "!./start_training.sh --network_type mobilenet_v1_ssd"
      ],
      "execution_count": 22,
      "outputs": [
        {
          "output_type": "stream",
          "text": [
            "/bin/bash: ./start_training.sh: No such file or directory\n"
          ],
          "name": "stdout"
        }
      ]
    },
    {
      "cell_type": "code",
      "metadata": {
        "id": "kyM0mY5BROEZ",
        "colab_type": "code",
        "outputId": "0215d0c0-5db7-4a65-bc30-1f4b85ad6644",
        "colab": {
          "base_uri": "https://localhost:8080/",
          "height": 221
        }
      },
      "source": [
        "!./convert_checkpoint_to_edgetpu_tflite.sh --network_type mobilenet_v1_ssd --checkpoint_num 500"
      ],
      "execution_count": 23,
      "outputs": [
        {
          "output_type": "stream",
          "text": [
            "+ ckpt_number=0\n",
            "+ [[ 4 -gt 0 ]]\n",
            "+ case \"$1\" in\n",
            "+ echo 'Unknown flag --network_type'\n",
            "Unknown flag --network_type\n",
            "+ usage\n",
            "+ cat\n",
            "  Converts TensorFlow checkpoint to EdgeTPU-compatible TFLite file.\n",
            "\n",
            "  --checkpoint_num  Checkpoint number, by default 0.\n",
            "  --help            Display this help.\n",
            "+ exit 1\n"
          ],
          "name": "stdout"
        }
      ]
    },
    {
      "cell_type": "code",
      "metadata": {
        "id": "kXeYT3hUR_At",
        "colab_type": "code",
        "outputId": "9037e3d8-694a-4040-938b-ccf993d85937",
        "colab": {
          "base_uri": "https://localhost:8080/",
          "height": 459
        }
      },
      "source": [
        "!curl https://packages.cloud.google.com/apt/doc/apt-key.gpg | sudo apt-key add -\n",
        "!echo \"deb https://packages.cloud.google.com/apt coral-edgetpu-stable main\" | sudo tee /etc/apt/sources.list.d/coral-edgetpu.list\n",
        "!apt update\n",
        "!apt install edgetpu"
      ],
      "execution_count": 24,
      "outputs": [
        {
          "output_type": "stream",
          "text": [
            "  % Total    % Received % Xferd  Average Speed   Time    Time     Time  Current\n",
            "                                 Dload  Upload   Total   Spent    Left  Speed\n",
            "\r  0     0    0     0    0     0      0      0 --:--:-- --:--:-- --:--:--     0\r100   653  100   653    0     0  14195      0 --:--:-- --:--:-- --:--:-- 14195\n",
            "OK\n",
            "deb https://packages.cloud.google.com/apt coral-edgetpu-stable main\n",
            "Hit:1 https://packages.cloud.google.com/apt coral-edgetpu-stable InRelease\n",
            "Hit:2 https://cloud.r-project.org/bin/linux/ubuntu bionic-cran35/ InRelease\n",
            "Ign:3 https://developer.download.nvidia.com/compute/cuda/repos/ubuntu1804/x86_64  InRelease\n",
            "Hit:4 http://archive.ubuntu.com/ubuntu bionic InRelease\n",
            "Hit:5 http://ppa.launchpad.net/graphics-drivers/ppa/ubuntu bionic InRelease\n",
            "Ign:6 https://developer.download.nvidia.com/compute/machine-learning/repos/ubuntu1804/x86_64  InRelease\n",
            "Hit:7 https://developer.download.nvidia.com/compute/cuda/repos/ubuntu1804/x86_64  Release\n",
            "Hit:8 https://developer.download.nvidia.com/compute/machine-learning/repos/ubuntu1804/x86_64  Release\n",
            "Hit:9 http://archive.ubuntu.com/ubuntu bionic-updates InRelease\n",
            "Hit:10 http://security.ubuntu.com/ubuntu bionic-security InRelease\n",
            "Hit:11 http://archive.ubuntu.com/ubuntu bionic-backports InRelease\n",
            "Hit:12 http://ppa.launchpad.net/marutter/c2d4u3.5/ubuntu bionic InRelease\n",
            "Reading package lists... Done\n",
            "Building dependency tree       \n",
            "Reading state information... Done\n",
            "53 packages can be upgraded. Run 'apt list --upgradable' to see them.\n",
            "Reading package lists... Done\n",
            "Building dependency tree       \n",
            "Reading state information... Done\n",
            "edgetpu is already the newest version (13.0).\n",
            "0 upgraded, 0 newly installed, 0 to remove and 53 not upgraded.\n"
          ],
          "name": "stdout"
        }
      ]
    },
    {
      "cell_type": "code",
      "metadata": {
        "id": "2io_P3oESSBi",
        "colab_type": "code",
        "outputId": "ce9dee06-51b1-4d87-d606-bc38e2473e6e",
        "colab": {
          "base_uri": "https://localhost:8080/",
          "height": 51
        }
      },
      "source": [
        "%cd /content/models/research/slim/transfer_learn/models/"
      ],
      "execution_count": 25,
      "outputs": [
        {
          "output_type": "stream",
          "text": [
            "[Errno 2] No such file or directory: '/content/models/research/slim/transfer_learn/models/'\n",
            "/content/models/research/models/research/object_detection\n"
          ],
          "name": "stdout"
        }
      ]
    },
    {
      "cell_type": "code",
      "metadata": {
        "id": "wTfz7OW_SlZE",
        "colab_type": "code",
        "outputId": "aa7b68aa-cbe7-4627-a7df-ce763a6bad7e",
        "colab": {
          "base_uri": "https://localhost:8080/",
          "height": 34
        }
      },
      "source": [
        "!edgetpu_compiler output_tflite_graph.tflite"
      ],
      "execution_count": 26,
      "outputs": [
        {
          "output_type": "stream",
          "text": [
            "Error opening file for reading: output_tflite_graph.tflite\n"
          ],
          "name": "stdout"
        }
      ]
    },
    {
      "cell_type": "code",
      "metadata": {
        "id": "Ytf6Muz28rUN",
        "colab_type": "code",
        "colab": {}
      },
      "source": [
        ""
      ],
      "execution_count": 0,
      "outputs": []
    },
    {
      "cell_type": "code",
      "metadata": {
        "id": "snZ-gwRETNLI",
        "colab_type": "code",
        "outputId": "2ddd6bc7-607d-4d59-e5d2-7ef2cb609996",
        "colab": {
          "base_uri": "https://localhost:8080/",
          "height": 68
        }
      },
      "source": [
        "%cd python-tflite-source/edgetpu/demo/\n",
        "!python3 classify_image.py \\\n",
        "  --model ${CLASSIFY_DIR}/models/output_tflite_graph_edgetpu.tflite \\\n",
        "  --label ${CLASSIFY_DIR}/models/labels.txt \\\n",
        "  --input ${CLASSIFY_DIR}/flower.jpg"
      ],
      "execution_count": 27,
      "outputs": [
        {
          "output_type": "stream",
          "text": [
            "[Errno 2] No such file or directory: 'python-tflite-source/edgetpu/demo/'\n",
            "/content/models/research/models/research/object_detection\n",
            "python3: can't open file 'classify_image.py': [Errno 2] No such file or directory\n"
          ],
          "name": "stdout"
        }
      ]
    }
  ]
}